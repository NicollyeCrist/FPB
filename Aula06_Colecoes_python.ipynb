{
  "nbformat": 4,
  "nbformat_minor": 0,
  "metadata": {
    "colab": {
      "provenance": [],
      "authorship_tag": "ABX9TyONr5noSWQBPnHHT2uNj7f4",
      "include_colab_link": true
    },
    "kernelspec": {
      "name": "python3",
      "display_name": "Python 3"
    },
    "language_info": {
      "name": "python"
    }
  },
  "cells": [
    {
      "cell_type": "markdown",
      "metadata": {
        "id": "view-in-github",
        "colab_type": "text"
      },
      "source": [
        "<a href=\"https://colab.research.google.com/github/NicollyeCrist/FPB/blob/main/Aula06_Colecoes_python.ipynb\" target=\"_parent\"><img src=\"https://colab.research.google.com/assets/colab-badge.svg\" alt=\"Open In Colab\"/></a>"
      ]
    },
    {
      "cell_type": "code",
      "execution_count": null,
      "metadata": {
        "id": "sZeS4s_9yoBQ"
      },
      "outputs": [],
      "source": [
        "#Coleções em Python\n",
        "\n",
        "#Listas\n",
        "#Ordenadas e mutáveis"
      ]
    },
    {
      "cell_type": "code",
      "source": [
        "#Adicionando elementos ás listas\n",
        "\n",
        "#um valor\n",
        "nomes = ['Ze','tiao','joaquim']\n",
        "nomes.append('Julia')\n",
        "\n",
        "#vários valores\n",
        "outrosNomes = ['Ana','Zabé','Maria']\n",
        "nomes.extend(outrosNomes)\n",
        "nomes"
      ],
      "metadata": {
        "colab": {
          "base_uri": "https://localhost:8080/"
        },
        "id": "nFW6OlBU70ac",
        "outputId": "d8e07fb2-9f82-4abb-bbc9-bfc8acdb98c5"
      },
      "execution_count": null,
      "outputs": [
        {
          "output_type": "execute_result",
          "data": {
            "text/plain": [
              "['Ze', 'tiao', 'joaquim', 'Julia', 'Ana', 'Zabé', 'Maria']"
            ]
          },
          "metadata": {},
          "execution_count": 3
        }
      ]
    },
    {
      "cell_type": "code",
      "source": [
        "#Remoção de elementos\n",
        "#remove.() - Remove o primeiro elemento\n",
        "#pop.() - Remove o último elemento\n",
        "\n",
        "#Crie uma lista de números e\n",
        "numeros = [2, 4, 7, 8, 9, 12] \n",
        "#Remova o primeiro elemento da lista\n",
        "numeros.remove(numeros[0])\n",
        "#remoca o último elemento da lista\n",
        "numeros.pop()\n",
        "\n",
        "numeros"
      ],
      "metadata": {
        "colab": {
          "base_uri": "https://localhost:8080/"
        },
        "id": "t7tEs_Hc88GF",
        "outputId": "6a4c16aa-81c9-4b41-b96f-25261b1350a3"
      },
      "execution_count": null,
      "outputs": [
        {
          "output_type": "execute_result",
          "data": {
            "text/plain": [
              "[4, 7, 8, 9]"
            ]
          },
          "metadata": {},
          "execution_count": 4
        }
      ]
    },
    {
      "cell_type": "code",
      "source": [
        "#Ordenação de ELementos\n",
        "#lista.sort() - ordena em ordem crescente\n",
        "#lista.sort(reverse=True) - ordena em ordem decrescente\n",
        "\n",
        "#1 - Crie ma lista de notas, e exiba-a da menor para a maior nota\n",
        "notas = [2, 10, 6, 7, 3, 5]\n",
        "nomes = ['Ademar','Maristênio', 'Asdrúbal', 'Leo']\n",
        "notas.sort()\n",
        "nomes.sort(reverse=True)\n",
        "\n",
        "#2 -Crie uma lista de nomes de frutas e ordene-a em ordem descrescente\n",
        "\n",
        "nomes\n"
      ],
      "metadata": {
        "colab": {
          "base_uri": "https://localhost:8080/"
        },
        "id": "qyEJjNn7_gi4",
        "outputId": "db007200-941a-4669-f0ab-dcaaa2627e6f"
      },
      "execution_count": null,
      "outputs": [
        {
          "output_type": "execute_result",
          "data": {
            "text/plain": [
              "['Maristênio', 'Leo', 'Asdrúbal', 'Ademar']"
            ]
          },
          "metadata": {},
          "execution_count": 8
        }
      ]
    },
    {
      "cell_type": "code",
      "source": [
        "#Exemplo função map - cria uma nova lista com o dobro\n",
        "numeros = [2, 4, 6, 3]\n",
        "nova_lista = list(map(lambda x : x*2, numeros))\n",
        "nova_lista"
      ],
      "metadata": {
        "colab": {
          "base_uri": "https://localhost:8080/"
        },
        "id": "Hw9b6eagBQQv",
        "outputId": "c6595b20-9ad9-478a-de9e-1fb591e602f5"
      },
      "execution_count": null,
      "outputs": [
        {
          "output_type": "execute_result",
          "data": {
            "text/plain": [
              "[4, 8, 12, 6]"
            ]
          },
          "metadata": {},
          "execution_count": 10
        }
      ]
    },
    {
      "cell_type": "code",
      "source": [
        "#pegar cada um dos números e dividir por 3\n",
        "numDivi = list(map(lambda x : x/3, numeros))\n",
        "numDivi"
      ],
      "metadata": {
        "colab": {
          "base_uri": "https://localhost:8080/"
        },
        "id": "-eDY-lU1C93F",
        "outputId": "795d23cb-d614-47e1-e906-58d59937329d"
      },
      "execution_count": null,
      "outputs": [
        {
          "output_type": "execute_result",
          "data": {
            "text/plain": [
              "[0.6666666666666666, 1.3333333333333333, 2.0, 1.0]"
            ]
          },
          "metadata": {},
          "execution_count": 11
        }
      ]
    },
    {
      "cell_type": "code",
      "source": [
        "#Pega cada número e soma 2.\n",
        "numSom = list(map(lambda x : x+2, numeros))\n",
        "numSom"
      ],
      "metadata": {
        "colab": {
          "base_uri": "https://localhost:8080/"
        },
        "id": "ncbjL8SMD_Nz",
        "outputId": "7a8afbbd-3579-43ab-de7f-41f228192a91"
      },
      "execution_count": null,
      "outputs": [
        {
          "output_type": "execute_result",
          "data": {
            "text/plain": [
              "[4, 6, 8, 5]"
            ]
          },
          "metadata": {},
          "execution_count": 12
        }
      ]
    },
    {
      "cell_type": "code",
      "source": [
        "#Exemplo função filter - a partir de uma lista de nomes, criar uma lista de nomes,\n",
        "\n",
        "nomes = ['José', 'Joaquim', 'Sebastião', 'Angélica', 'Leonardo']\n",
        "\n",
        "new_list = list(filter(lambda x : len(x)>5, nomes))\n",
        "new_list"
      ],
      "metadata": {
        "colab": {
          "base_uri": "https://localhost:8080/"
        },
        "id": "qiHhqG92Etb_",
        "outputId": "c615cda3-1534-402e-d867-22e9d46d607d"
      },
      "execution_count": null,
      "outputs": [
        {
          "output_type": "execute_result",
          "data": {
            "text/plain": [
              "['Joaquim', 'Sebastião', 'Angelica', 'Leonardo']"
            ]
          },
          "metadata": {},
          "execution_count": 15
        }
      ]
    },
    {
      "cell_type": "code",
      "source": [
        "#Crie uma lista de notas, imprime apenas as maiores que 6\n",
        "\n",
        "notas = [3, 7, 8, 6, 9, 10]\n",
        "\n",
        "new_notas = list(filter(lambda x : (x)>6, notas))\n",
        "new_notas"
      ],
      "metadata": {
        "colab": {
          "base_uri": "https://localhost:8080/"
        },
        "id": "Th7foCsCFux6",
        "outputId": "802206b2-2028-465e-c531-321f76a35420"
      },
      "execution_count": null,
      "outputs": [
        {
          "output_type": "execute_result",
          "data": {
            "text/plain": [
              "[7, 8, 9, 10]"
            ]
          },
          "metadata": {},
          "execution_count": 20
        }
      ]
    },
    {
      "cell_type": "code",
      "source": [
        "#Exercícios\n",
        "\n",
        "#Dada uma lista de números, retorne uma lista contendo o quadrado de cada número.\n",
        "\n",
        "numeros01 = [3, 4, 6, 9, 3, 2]\n",
        "new_num = list(map(lambda x : x**2, numeros01))\n",
        "new_num"
      ],
      "metadata": {
        "colab": {
          "base_uri": "https://localhost:8080/"
        },
        "id": "cmwbp7vsIgd0",
        "outputId": "c0f20286-e73d-40c8-a217-e7de9a364893"
      },
      "execution_count": null,
      "outputs": [
        {
          "output_type": "execute_result",
          "data": {
            "text/plain": [
              "[9, 16, 36, 81, 9, 4]"
            ]
          },
          "metadata": {},
          "execution_count": 21
        }
      ]
    },
    {
      "cell_type": "code",
      "source": [
        "#Dada uma lista de nomes, retorne uma lista contendo o tamanho de cada nome.\n",
        "\n",
        "nomes = ['João', 'Amélia', 'Chris', 'Geovaldo']\n",
        "new_nam = list(map(lambda x : len(x), nomes))\n",
        "new_nam"
      ],
      "metadata": {
        "colab": {
          "base_uri": "https://localhost:8080/"
        },
        "id": "l5y5hiVcJM0p",
        "outputId": "ada4300a-5471-4bca-cf36-1a7c5c46fae9"
      },
      "execution_count": null,
      "outputs": [
        {
          "output_type": "execute_result",
          "data": {
            "text/plain": [
              "[4, 6, 5, 8]"
            ]
          },
          "metadata": {},
          "execution_count": 23
        }
      ]
    },
    {
      "cell_type": "code",
      "source": [
        "#Dada uma lista de números, retorne uma lista contendo apenas os números pares.\n",
        "\n",
        "numeros02 = [ 2, 6, 8, 1, 9, 10]\n",
        "new_num = list(filter(lambda x : (x)%2 == 0, numeros02))\n",
        "new_num"
      ],
      "metadata": {
        "colab": {
          "base_uri": "https://localhost:8080/"
        },
        "id": "cOnreq4AJ_jJ",
        "outputId": "961662f4-ea39-4ba6-a72a-af4d5705bf53"
      },
      "execution_count": null,
      "outputs": [
        {
          "output_type": "execute_result",
          "data": {
            "text/plain": [
              "[2, 6, 8, 10]"
            ]
          },
          "metadata": {},
          "execution_count": 24
        }
      ]
    },
    {
      "cell_type": "code",
      "source": [
        "#Dada uma lista de nomes, retorne uma lista contendo apenas os nomes que começam com a letra \"A\".\n",
        "\n",
        "nomes01 = ['Joaquina', 'Letícia', 'Abigail', 'Hamilton', 'Acastro']\n",
        "new_nam = list(filter(lambda x : x[0]== 'A', nomes01))\n",
        "new_nam"
      ],
      "metadata": {
        "colab": {
          "base_uri": "https://localhost:8080/"
        },
        "id": "ozh4w_RfK-6X",
        "outputId": "b03bdc43-83ee-4b0f-f42a-6b3285a2ecd6"
      },
      "execution_count": null,
      "outputs": [
        {
          "output_type": "execute_result",
          "data": {
            "text/plain": [
              "['Abigail', 'Acastro']"
            ]
          },
          "metadata": {},
          "execution_count": 33
        }
      ]
    },
    {
      "cell_type": "code",
      "source": [
        "#Recebe uma lista com notas de alunos, retorna apenas os aprovados (nota maior ou igual a 7)\n",
        "\n",
        "notas = [7, 4, 8, 9, 10, 3, 2]\n",
        "new_notas = list(filter(lambda x : (x)>=7, notas))\n",
        "new_notas"
      ],
      "metadata": {
        "colab": {
          "base_uri": "https://localhost:8080/"
        },
        "id": "VdLMfMEnLr4m",
        "outputId": "bdcf1dc7-29a0-4772-c13b-af055e060f74"
      },
      "execution_count": null,
      "outputs": [
        {
          "output_type": "execute_result",
          "data": {
            "text/plain": [
              "[7, 8, 9, 10]"
            ]
          },
          "metadata": {},
          "execution_count": 26
        }
      ]
    },
    {
      "cell_type": "code",
      "source": [
        "#Recebe uma lista de nomes, retorna apenas os que começam com vogal.\n",
        "\n",
        "nomes02 = ['Castro', 'Otto', 'Fernando', 'Perez', 'Uberval']\n",
        "new_nam = list(filter(lambda x : x[0].upper() in 'AEIOU', nomes02))\n",
        "new_nam\n"
      ],
      "metadata": {
        "colab": {
          "base_uri": "https://localhost:8080/"
        },
        "id": "KFuSrO_UMHD_",
        "outputId": "8251d347-dc79-4e8f-8893-724ff4650dd8"
      },
      "execution_count": null,
      "outputs": [
        {
          "output_type": "execute_result",
          "data": {
            "text/plain": [
              "['Otto', 'Uberval']"
            ]
          },
          "metadata": {},
          "execution_count": 31
        }
      ]
    },
    {
      "cell_type": "code",
      "source": [
        "#Escreva uma função que recebe uma lista de números e retorna uma nova lista contendo apenas os números que são divisíveis por 3 e 5.\n",
        "\n",
        "numeros = [ 2, 14, 15, 20, 5, 3]\n",
        "new_num = list(filter(lambda x : (x)%3 == 0 and (x)%5 == 0, numeros ))\n",
        "new_num"
      ],
      "metadata": {
        "colab": {
          "base_uri": "https://localhost:8080/"
        },
        "id": "_c-t2352OGdN",
        "outputId": "71b67ed2-93b7-4146-9e2e-dc81b66121a1"
      },
      "execution_count": null,
      "outputs": [
        {
          "output_type": "execute_result",
          "data": {
            "text/plain": [
              "[15]"
            ]
          },
          "metadata": {},
          "execution_count": 34
        }
      ]
    },
    {
      "cell_type": "code",
      "source": [
        "#Escreva uma função que recebe uma lista de strings e retorna uma nova lista contendo apenas as strings que começam com uma letra maiúscula.\n",
        "\n",
        "nomes = ['zangão', 'Zico', 'ameixa', 'Flamengo', 'fanta', 'unha', 'ovo']\n",
        "\n",
        "new_List = list(filter(lambda x : x[0].isupper(), nomes))\n",
        "\n",
        "new_List"
      ],
      "metadata": {
        "colab": {
          "base_uri": "https://localhost:8080/"
        },
        "id": "mAE7ODlhO1XU",
        "outputId": "60228721-58de-44eb-e6ba-249ee4aaeb55"
      },
      "execution_count": null,
      "outputs": [
        {
          "output_type": "execute_result",
          "data": {
            "text/plain": [
              "['W', 'A', 'J', 'K']"
            ]
          },
          "metadata": {},
          "execution_count": 37
        }
      ]
    },
    {
      "cell_type": "code",
      "source": [
        "#Recebe uma lista de strings, e retorna uma lista apenas com as iniciais de cada string.\n",
        "\n",
        "iniciais = list(map(lambda x : x[0], nomes))\n",
        "\n",
        "iniciais"
      ],
      "metadata": {
        "colab": {
          "base_uri": "https://localhost:8080/"
        },
        "id": "-cPDHnbmPWhU",
        "outputId": "bb770fa3-1599-4b80-8853-b9df4396788c"
      },
      "execution_count": null,
      "outputs": [
        {
          "output_type": "execute_result",
          "data": {
            "text/plain": [
              "['W', 'A', 'J', 'K']"
            ]
          },
          "metadata": {},
          "execution_count": 38
        }
      ]
    },
    {
      "cell_type": "code",
      "source": [
        "#Escreva uma função que recebe uma lista de números e retorna uma nova lista contendo apenas os números pares elevados ao quadrado.\n",
        "\n",
        "numeros = [12, 32, 62, 11, 18, 24]\n",
        "new_num = list(filter(lambda x : (x)%2 == 0 and (x)**2, numeros))\n",
        "new_num"
      ],
      "metadata": {
        "colab": {
          "base_uri": "https://localhost:8080/"
        },
        "id": "dM2VFf3rQAot",
        "outputId": "6006acb6-906a-4c5f-9cc3-9e76ae0ea741"
      },
      "execution_count": null,
      "outputs": [
        {
          "output_type": "execute_result",
          "data": {
            "text/plain": [
              "[12, 32, 62, 18, 24]"
            ]
          },
          "metadata": {},
          "execution_count": 36
        }
      ]
    },
    {
      "cell_type": "code",
      "source": [
        "#Tuplas\n",
        "#Uma tupla é uma coleção ordenada e imutável de elementos em Python\n",
        "tp_frutas = ('maçã', 'banana', 'laranja', 'goiaba')\n",
        "tp_frutas\n",
        "\n",
        "\n"
      ],
      "metadata": {
        "id": "u-e3-HfZ-7bA",
        "colab": {
          "base_uri": "https://localhost:8080/"
        },
        "outputId": "9ca1466c-0556-4f31-c5ea-d9efcfb4f08c"
      },
      "execution_count": null,
      "outputs": [
        {
          "output_type": "execute_result",
          "data": {
            "text/plain": [
              "('maçã', 'banana', 'laranja', 'goiaba')"
            ]
          },
          "metadata": {},
          "execution_count": 1
        }
      ]
    },
    {
      "cell_type": "code",
      "source": [
        "#Dicionários\n",
        "#Armazenamento\n",
        "#Criando dicionários\n",
        "#Os dicionários são definidos utilizando chaves {} \n",
        "#e os pares chave-valor são separados por dois pontos (:)\n",
        "\n",
        "#Contatos\n",
        "contatos = {\n",
        "    'Ostervaldo' : 'oster@email.com',\n",
        "    'Maristênio' : 'marist@email.com',\n",
        "    'Leroiane' : 'lero@email.com', \n",
        "    'Jozezin' : ['zezin@exemplo.com', 'zemane@xemple.com']\n",
        "}\n",
        "\n",
        "contatos"
      ],
      "metadata": {
        "colab": {
          "base_uri": "https://localhost:8080/"
        },
        "id": "MEJmlEbtE-mz",
        "outputId": "d8ad5218-dc13-4cb1-9087-5a330f2521e0"
      },
      "execution_count": null,
      "outputs": [
        {
          "output_type": "execute_result",
          "data": {
            "text/plain": [
              "{'Ostervaldo': 'oster@email.com',\n",
              " 'Maristênio': 'marist@email.com',\n",
              " 'Leroiane': 'lero@email.com',\n",
              " 'Jozezin': ['zezin@exemplo.com', 'zemane@xemple.com']}"
            ]
          },
          "metadata": {},
          "execution_count": 2
        }
      ]
    },
    {
      "cell_type": "code",
      "source": [
        "#Acessando valores\n",
        "contatos['Leroiane']"
      ],
      "metadata": {
        "colab": {
          "base_uri": "https://localhost:8080/",
          "height": 35
        },
        "id": "8K_kx82UHx0r",
        "outputId": "64763d79-acc4-4e95-be45-c040ba42f30c"
      },
      "execution_count": null,
      "outputs": [
        {
          "output_type": "execute_result",
          "data": {
            "text/plain": [
              "'lero@email.com'"
            ],
            "application/vnd.google.colaboratory.intrinsic+json": {
              "type": "string"
            }
          },
          "metadata": {},
          "execution_count": 5
        }
      ]
    },
    {
      "cell_type": "code",
      "source": [
        "#Para evitar erros ao buscar por possíveis valores inexistentes, utilizar o get()\n",
        "contatos.get('Brasil', 'Contato inexistente')\n",
        "     "
      ],
      "metadata": {
        "colab": {
          "base_uri": "https://localhost:8080/",
          "height": 35
        },
        "id": "xzrtE72sH6HC",
        "outputId": "993a5a5b-f65e-42a3-dd4e-064fb30a5d7f"
      },
      "execution_count": null,
      "outputs": [
        {
          "output_type": "execute_result",
          "data": {
            "text/plain": [
              "'Contato inexistente'"
            ],
            "application/vnd.google.colaboratory.intrinsic+json": {
              "type": "string"
            }
          },
          "metadata": {},
          "execution_count": 6
        }
      ]
    },
    {
      "cell_type": "code",
      "source": [
        "#Adicionar\n",
        "contatos['Evilásio'] = 'evi@exemplo.com'\n",
        "\n",
        "contatos"
      ],
      "metadata": {
        "colab": {
          "base_uri": "https://localhost:8080/"
        },
        "id": "i5YEhT4NIQdZ",
        "outputId": "c1bd55c1-9174-4bc3-90d9-df6b67233749"
      },
      "execution_count": null,
      "outputs": [
        {
          "output_type": "execute_result",
          "data": {
            "text/plain": [
              "{'Ostervaldo': 'oster@email.com',\n",
              " 'Maristênio': 'marist@email.com',\n",
              " 'Leroiane': 'lero@email.com',\n",
              " 'Jozezin': ['zezin@exemplo.com', 'zemane@xemple.com'],\n",
              " 'Evilásio': 'evi@exemplo.com'}"
            ]
          },
          "metadata": {},
          "execution_count": 8
        }
      ]
    },
    {
      "cell_type": "code",
      "source": [
        "#Adição por concatenação\n",
        "a = {'zé': 'ze@mailzemplo.com', \n",
        "     'Jacob':'Jac@exemplo.com',\n",
        "     'Fabricio' : 'Fabri@exml.com'}\n",
        "\n",
        "contatos.update(a)\n",
        "\n",
        "contatos"
      ],
      "metadata": {
        "colab": {
          "base_uri": "https://localhost:8080/"
        },
        "id": "-j2eL17YIxpg",
        "outputId": "fba59345-eb4c-4869-810e-2a1c8b8c0f29"
      },
      "execution_count": null,
      "outputs": [
        {
          "output_type": "execute_result",
          "data": {
            "text/plain": [
              "{'Ostervaldo': 'oster@email.com',\n",
              " 'Maristênio': 'steniomari2023@exemplo.com',\n",
              " 'Leroiane': 'lero@email.com',\n",
              " 'Jozezin': ['zezin@exemplo.com', 'zemane@xemple.com'],\n",
              " 'Evilásio': 'evi@exemplo.com',\n",
              " 'zé': 'ze@mailzemplo.com',\n",
              " 'gardenia': 'gardenia@exemplo.com',\n",
              " 'Aloisio': 'aloisio@exml.com',\n",
              " 'Jacob': 'Jac@exemplo.com',\n",
              " 'Fabricio': 'Fabri@exml.com'}"
            ]
          },
          "metadata": {},
          "execution_count": 12
        }
      ]
    },
    {
      "cell_type": "code",
      "source": [
        "#Modificar (só inserir um novo valor à chave correspondente)\n",
        "contatos['Maria'] = 'mari2023@exemplo.com'\n",
        "\n",
        "contatos\n",
        "     "
      ],
      "metadata": {
        "colab": {
          "base_uri": "https://localhost:8080/"
        },
        "id": "tA3GjfKVI5NA",
        "outputId": "99f4caa1-aea1-4def-d90f-014f018b12f9"
      },
      "execution_count": null,
      "outputs": [
        {
          "output_type": "execute_result",
          "data": {
            "text/plain": [
              "{'Ostervaldo': 'oster@email.com',\n",
              " 'Maristênio': 'steniomari2023@exemplo.com',\n",
              " 'Leroiane': 'lero@email.com',\n",
              " 'Jozezin': ['zezin@exemplo.com', 'zemane@xemple.com'],\n",
              " 'zé': 'ze@mailzemplo.com',\n",
              " 'gardenia': 'gardenia@exemplo.com',\n",
              " 'Aloisio': 'aloisio@exml.com',\n",
              " 'Jacob': 'Jac@exemplo.com',\n",
              " 'Fabricio': 'Fabri@exml.com',\n",
              " 'Maria': 'mari2023@exemplo.com'}"
            ]
          },
          "metadata": {},
          "execution_count": 20
        }
      ]
    },
    {
      "cell_type": "code",
      "source": [
        "#Remoção del\n",
        "\n",
        "del contatos['Fabricio']\n",
        "\n",
        "contatos\n",
        "     "
      ],
      "metadata": {
        "colab": {
          "base_uri": "https://localhost:8080/"
        },
        "id": "UTnNlvBnJF4w",
        "outputId": "186da7d3-8881-4a75-d9db-5ee8e8989aa8"
      },
      "execution_count": null,
      "outputs": [
        {
          "output_type": "execute_result",
          "data": {
            "text/plain": [
              "{'Ostervaldo': 'oster@email.com',\n",
              " 'Maristênio': 'steniomari2023@exemplo.com',\n",
              " 'Leroiane': 'lero@email.com',\n",
              " 'Jozezin': ['zezin@exemplo.com', 'zemane@xemple.com'],\n",
              " 'zé': 'ze@mailzemplo.com',\n",
              " 'gardenia': 'gardenia@exemplo.com',\n",
              " 'Aloisio': 'aloisio@exml.com',\n",
              " 'Jacob': 'Jac@exemplo.com',\n",
              " 'Maria': 'mari2023@exemplo.com'}"
            ]
          },
          "metadata": {},
          "execution_count": 21
        }
      ]
    },
    {
      "cell_type": "code",
      "source": [
        "contatos.items()"
      ],
      "metadata": {
        "colab": {
          "base_uri": "https://localhost:8080/"
        },
        "id": "mD9VQXTGLpWq",
        "outputId": "95981a07-a044-4e97-e722-5131f2e7fdf3"
      },
      "execution_count": null,
      "outputs": [
        {
          "output_type": "execute_result",
          "data": {
            "text/plain": [
              "dict_items([('Ostervaldo', 'oster@email.com'), ('Maristênio', 'steniomari2023@exemplo.com'), ('Leroiane', 'lero@email.com'), ('Jozezin', ['zezin@exemplo.com', 'zemane@xemple.com']), ('zé', 'ze@mailzemplo.com'), ('gardenia', 'gardenia@exemplo.com'), ('Aloisio', 'aloisio@exml.com'), ('Jacob', 'Jac@exemplo.com'), ('Maria', 'mari2023@exemplo.com')])"
            ]
          },
          "metadata": {},
          "execution_count": 22
        }
      ]
    },
    {
      "cell_type": "code",
      "source": [
        "#Iterando sobre dicionários\n",
        "for nome, email in contatos.items():\n",
        "  print(f\"O Email {email} pertence a {nome}\")"
      ],
      "metadata": {
        "colab": {
          "base_uri": "https://localhost:8080/"
        },
        "id": "Gey4ZfO6MkbX",
        "outputId": "65dccb69-d820-46b6-a906-4eccb9efacac"
      },
      "execution_count": null,
      "outputs": [
        {
          "output_type": "stream",
          "name": "stdout",
          "text": [
            "O Email oster@email.com pertence a Ostervaldo\n",
            "O Email steniomari2023@exemplo.com pertence a Maristênio\n",
            "O Email lero@email.com pertence a Leroiane\n",
            "O Email ['zezin@exemplo.com', 'zemane@xemple.com'] pertence a Jozezin\n",
            "O Email ze@mailzemplo.com pertence a zé\n",
            "O Email gardenia@exemplo.com pertence a gardenia\n",
            "O Email aloisio@exml.com pertence a Aloisio\n",
            "O Email Jac@exemplo.com pertence a Jacob\n",
            "O Email mari2023@exemplo.com pertence a Maria\n"
          ]
        }
      ]
    },
    {
      "cell_type": "code",
      "source": [
        "#métodos úteis keys(), values()\n",
        "contatos.keys()"
      ],
      "metadata": {
        "colab": {
          "base_uri": "https://localhost:8080/"
        },
        "id": "aMfWl-TdPxTe",
        "outputId": "78f68ceb-a2ba-40c5-bfab-2f9a1106b49f"
      },
      "execution_count": null,
      "outputs": [
        {
          "output_type": "execute_result",
          "data": {
            "text/plain": [
              "dict_keys(['Ostervaldo', 'Maristênio', 'Leroiane', 'Jozezin', 'zé', 'gardenia', 'Aloisio', 'Jacob', 'Maria'])"
            ]
          },
          "metadata": {},
          "execution_count": 24
        }
      ]
    },
    {
      "cell_type": "code",
      "source": [
        "nomes = list(contatos.keys())\n",
        "type(nomes)"
      ],
      "metadata": {
        "colab": {
          "base_uri": "https://localhost:8080/"
        },
        "id": "JiEtmstDQAeB",
        "outputId": "96bb4a48-e747-4d22-caab-0209e7019307"
      },
      "execution_count": null,
      "outputs": [
        {
          "output_type": "execute_result",
          "data": {
            "text/plain": [
              "dict_keys"
            ]
          },
          "metadata": {},
          "execution_count": 25
        }
      ]
    },
    {
      "cell_type": "code",
      "source": [
        "contatos.values()"
      ],
      "metadata": {
        "id": "BRc22oKoQXKo"
      },
      "execution_count": null,
      "outputs": []
    },
    {
      "cell_type": "code",
      "source": [
        "#Valores máximos, mínimos e ordenações\n",
        "curso = {\"Jorge\" : 8.5, \"Bob\" : 7.0, \"Chico\" : 6.5, \"Nick\" : 10}\n",
        "#Quem obteve a maior nota?\n",
        "max(curso, key = curso.get)"
      ],
      "metadata": {
        "colab": {
          "base_uri": "https://localhost:8080/",
          "height": 35
        },
        "id": "9lczQCZsQabw",
        "outputId": "13b1f145-3804-4cd9-b4e3-74674d6864bf"
      },
      "execution_count": null,
      "outputs": [
        {
          "output_type": "execute_result",
          "data": {
            "text/plain": [
              "'Nick'"
            ],
            "application/vnd.google.colaboratory.intrinsic+json": {
              "type": "string"
            }
          },
          "metadata": {},
          "execution_count": 26
        }
      ]
    },
    {
      "cell_type": "code",
      "source": [
        "#E a menor nota?\n",
        "min(curso, key = curso.get)"
      ],
      "metadata": {
        "colab": {
          "base_uri": "https://localhost:8080/",
          "height": 35
        },
        "id": "Elbszxo2RF74",
        "outputId": "a2976124-14ea-4dd6-f491-eae0016c2351"
      },
      "execution_count": null,
      "outputs": [
        {
          "output_type": "execute_result",
          "data": {
            "text/plain": [
              "'Chico'"
            ],
            "application/vnd.google.colaboratory.intrinsic+json": {
              "type": "string"
            }
          },
          "metadata": {},
          "execution_count": 27
        }
      ]
    },
    {
      "cell_type": "code",
      "source": [
        "#Ordene pela nota da menor para a maior\n",
        "sorted(curso, key = curso.get)"
      ],
      "metadata": {
        "colab": {
          "base_uri": "https://localhost:8080/"
        },
        "id": "xPECs5lqTVac",
        "outputId": "0b0c03f7-d9ae-4673-84c5-d3bea0bdb004"
      },
      "execution_count": null,
      "outputs": [
        {
          "output_type": "execute_result",
          "data": {
            "text/plain": [
              "['Chico', 'Bob', 'Jorge', 'Nick']"
            ]
          },
          "metadata": {},
          "execution_count": 28
        }
      ]
    },
    {
      "cell_type": "code",
      "source": [
        "sorted(curso, key = curso.get, reverse=True)"
      ],
      "metadata": {
        "colab": {
          "base_uri": "https://localhost:8080/"
        },
        "id": "1vwl5Z78Tq2k",
        "outputId": "70b46a71-58bf-4b8b-aae6-51d0353884d1"
      },
      "execution_count": null,
      "outputs": [
        {
          "output_type": "execute_result",
          "data": {
            "text/plain": [
              "['Nick', 'Jorge', 'Bob', 'Chico']"
            ]
          },
          "metadata": {},
          "execution_count": 29
        }
      ]
    },
    {
      "cell_type": "code",
      "source": [
        "##Exercício\n",
        "\n",
        "#O dicionário a seguir contém uma relação de atletas e seus respectivos tempos em uma corrida de 100 metros. \n",
        "#corrida100m = {'Zé': 10, 'marco': 9.9, 'Marta': 9.98, 'Lourdes': 10.2}\n",
        "#Crie um código em python que retorna:\n",
        "#Quem chegou primeiro\n",
        "#Quem chegou por últimp\n",
        "#Ordene os atletas do primeiro ao último lugar."
      ],
      "metadata": {
        "id": "u_qLwh00UFjv"
      },
      "execution_count": null,
      "outputs": []
    },
    {
      "cell_type": "code",
      "source": [
        "corrida100m = {'Zé': 10, 'marco': 9.9, 'Marta': 9.98, 'Lourdes': 10.2}\n",
        "#Primeiro\n",
        "max(corrida100m, key = corrida100m.get)"
      ],
      "metadata": {
        "colab": {
          "base_uri": "https://localhost:8080/",
          "height": 35
        },
        "id": "aS32nLlDUi12",
        "outputId": "19afef6d-bb09-4fb9-b944-1308065d553b"
      },
      "execution_count": null,
      "outputs": [
        {
          "output_type": "execute_result",
          "data": {
            "text/plain": [
              "'Lourdes'"
            ],
            "application/vnd.google.colaboratory.intrinsic+json": {
              "type": "string"
            }
          },
          "metadata": {},
          "execution_count": 33
        }
      ]
    },
    {
      "cell_type": "code",
      "source": [
        "#ùltimo\n",
        "min(corrida100m, key = corrida100m.get)"
      ],
      "metadata": {
        "colab": {
          "base_uri": "https://localhost:8080/",
          "height": 35
        },
        "id": "hpqGwT2PVn9q",
        "outputId": "3df361b2-8aa8-4d37-9f24-24c19f852ac8"
      },
      "execution_count": null,
      "outputs": [
        {
          "output_type": "execute_result",
          "data": {
            "text/plain": [
              "'marco'"
            ],
            "application/vnd.google.colaboratory.intrinsic+json": {
              "type": "string"
            }
          },
          "metadata": {},
          "execution_count": 31
        }
      ]
    },
    {
      "cell_type": "code",
      "source": [
        "#Ordenar\n",
        "sorted(corrida100m, key = corrida100m.get, reverse=True)"
      ],
      "metadata": {
        "colab": {
          "base_uri": "https://localhost:8080/"
        },
        "id": "UPhf1dCmVoxq",
        "outputId": "dd0e165d-fbb8-4d7d-8062-f4da67eb1f40"
      },
      "execution_count": null,
      "outputs": [
        {
          "output_type": "execute_result",
          "data": {
            "text/plain": [
              "['Lourdes', 'Zé', 'Marta', 'marco']"
            ]
          },
          "metadata": {},
          "execution_count": 32
        }
      ]
    },
    {
      "cell_type": "code",
      "source": [
        "#Escreva uma função que receba dois dicionários como entrada e retorne um novo dicionário contendo a união dos dois dicionários.\n",
        "\n",
        "a = { 'chave 1': 'Valor 1', 'chave 2': 'Valor 2', 'chave 3': 'Valor 3'}\n",
        "b = { 'chave a': 'Valor a', 'chave b': 'Valor b', 'chave c': 'Valor c'}\n",
        "\n",
        "def juntaDicionarios (dicA, dicB):\n",
        "  dicC = {}\n",
        "  dicC.update(dicA)\n",
        "  dicC.update(dicB)\n",
        "  return dicC"
      ],
      "metadata": {
        "id": "0I74u1w1F8N5"
      },
      "execution_count": 1,
      "outputs": []
    },
    {
      "cell_type": "code",
      "source": [
        "a = { 'chave 1': 'Valor 1', 'chave 2': 'Valor 2', 'chave 3': 'Valor 3'}\n",
        "b = { 'chave a': 'Valor a', 'chave b': 'Valor b', 'chave c': 'Valor c'}\n",
        "\n",
        "juntaDicionarios(a, b)\n",
        "     "
      ],
      "metadata": {
        "colab": {
          "base_uri": "https://localhost:8080/"
        },
        "id": "ZHz9TMWVGQ94",
        "outputId": "83fa006a-2eb6-4d5c-ff55-fae03630774c"
      },
      "execution_count": 2,
      "outputs": [
        {
          "output_type": "execute_result",
          "data": {
            "text/plain": [
              "{'chave 1': 'Valor 1',\n",
              " 'chave 2': 'Valor 2',\n",
              " 'chave 3': 'Valor 3',\n",
              " 'chave a': 'Valor a',\n",
              " 'chave b': 'Valor b',\n",
              " 'chave c': 'Valor c'}"
            ]
          },
          "metadata": {},
          "execution_count": 2
        }
      ]
    },
    {
      "cell_type": "code",
      "source": [
        "#Exercício 3\n",
        "\n",
        "provaA = {'Andre': 8.5, 'Ana': 7.0, 'Chico': 6.5, 'Nubia': 10, 'Luana': 8}\n",
        "provaB = {'Julio': 5.5, 'Aristoteles': 6.0, 'Sebastian': 9.5, 'Camila': 10, 'João': 6}\n",
        "\n",
        "resultado_final = {} #novo dicionário resultado_final\n",
        "resultado_final.update(provaA)\n",
        "resultado_final.update(provaB)\n",
        "\n",
        "resultado_final"
      ],
      "metadata": {
        "colab": {
          "base_uri": "https://localhost:8080/"
        },
        "id": "LI1RhTUJGTH_",
        "outputId": "b316b406-f3b1-42d3-9f4c-20720fd40d26"
      },
      "execution_count": 3,
      "outputs": [
        {
          "output_type": "execute_result",
          "data": {
            "text/plain": [
              "{'Andre': 8.5,\n",
              " 'Ana': 7.0,\n",
              " 'Chico': 6.5,\n",
              " 'Nubia': 10,\n",
              " 'Luana': 8,\n",
              " 'Julio': 5.5,\n",
              " 'Aristoteles': 6.0,\n",
              " 'Sebastian': 9.5,\n",
              " 'Camila': 10,\n",
              " 'João': 6}"
            ]
          },
          "metadata": {},
          "execution_count": 3
        }
      ]
    },
    {
      "cell_type": "code",
      "source": [
        "sorted(resultado_final, key = resultado_final.get, reverse=True) "
      ],
      "metadata": {
        "colab": {
          "base_uri": "https://localhost:8080/"
        },
        "id": "vVN64oGcIdGJ",
        "outputId": "6073d4f9-8c85-4ad1-cecd-12d20f83a7b4"
      },
      "execution_count": 5,
      "outputs": [
        {
          "output_type": "execute_result",
          "data": {
            "text/plain": [
              "['Nubia',\n",
              " 'Camila',\n",
              " 'Sebastian',\n",
              " 'Andre',\n",
              " 'Luana',\n",
              " 'Ana',\n",
              " 'Chico',\n",
              " 'Aristoteles',\n",
              " 'João',\n",
              " 'Julio']"
            ]
          },
          "metadata": {},
          "execution_count": 5
        }
      ]
    },
    {
      "cell_type": "code",
      "source": [
        "sorted(resultado_final.items(), key = lambda x: x[1], reverse = True) #Ordenação crescente"
      ],
      "metadata": {
        "colab": {
          "base_uri": "https://localhost:8080/"
        },
        "id": "iicPTSGzKiJu",
        "outputId": "3e59281f-8532-4269-b374-9b299d1db653"
      },
      "execution_count": 6,
      "outputs": [
        {
          "output_type": "execute_result",
          "data": {
            "text/plain": [
              "[('Nubia', 10),\n",
              " ('Camila', 10),\n",
              " ('Sebastian', 9.5),\n",
              " ('Andre', 8.5),\n",
              " ('Luana', 8),\n",
              " ('Ana', 7.0),\n",
              " ('Chico', 6.5),\n",
              " ('Aristoteles', 6.0),\n",
              " ('João', 6),\n",
              " ('Julio', 5.5)]"
            ]
          },
          "metadata": {},
          "execution_count": 6
        }
      ]
    },
    {
      "cell_type": "code",
      "source": [
        "listaCandidatos = list(resultado_final.keys())\n",
        "listaCandidatos"
      ],
      "metadata": {
        "colab": {
          "base_uri": "https://localhost:8080/"
        },
        "id": "e9Svdys-K0gF",
        "outputId": "8d83f850-6a50-4812-c94d-497d8467d8e8"
      },
      "execution_count": 8,
      "outputs": [
        {
          "output_type": "execute_result",
          "data": {
            "text/plain": [
              "['Andre',\n",
              " 'Ana',\n",
              " 'Chico',\n",
              " 'Nubia',\n",
              " 'Luana',\n",
              " 'Julio',\n",
              " 'Aristoteles',\n",
              " 'Sebastian',\n",
              " 'Camila',\n",
              " 'João']"
            ]
          },
          "metadata": {},
          "execution_count": 8
        }
      ]
    },
    {
      "cell_type": "code",
      "source": [
        "listaNotas = list(resultado_final.values())\n",
        "listaNotas"
      ],
      "metadata": {
        "colab": {
          "base_uri": "https://localhost:8080/"
        },
        "id": "6SB9cENWMInU",
        "outputId": "a5c35036-cbdd-4889-acf4-ffffa36ddf41"
      },
      "execution_count": 9,
      "outputs": [
        {
          "output_type": "execute_result",
          "data": {
            "text/plain": [
              "[8.5, 7.0, 6.5, 10, 8, 5.5, 6.0, 9.5, 10, 6]"
            ]
          },
          "metadata": {},
          "execution_count": 9
        }
      ]
    },
    {
      "cell_type": "code",
      "source": [
        "resultado_final.get('Ana', 'Candidato não existe')"
      ],
      "metadata": {
        "colab": {
          "base_uri": "https://localhost:8080/"
        },
        "id": "Py8a4FoZQnTr",
        "outputId": "2dd6a909-87ab-41c4-b7bc-287e5ca52a0e"
      },
      "execution_count": 10,
      "outputs": [
        {
          "output_type": "execute_result",
          "data": {
            "text/plain": [
              "7.0"
            ]
          },
          "metadata": {},
          "execution_count": 10
        }
      ]
    },
    {
      "cell_type": "code",
      "source": [
        "def consultaNota (dicionario, nome):\n",
        " return resultado_final.get(nome, 'Candidato não existe')\n",
        "\n",
        "\n",
        "consultaNota(resultado_final,'Aloísio')"
      ],
      "metadata": {
        "colab": {
          "base_uri": "https://localhost:8080/",
          "height": 35
        },
        "id": "70o0MCOmM2xa",
        "outputId": "cd4ac621-daf3-4355-affc-a6becc1ef1ec"
      },
      "execution_count": 11,
      "outputs": [
        {
          "output_type": "execute_result",
          "data": {
            "text/plain": [
              "'Candidato não existe'"
            ],
            "application/vnd.google.colaboratory.intrinsic+json": {
              "type": "string"
            }
          },
          "metadata": {},
          "execution_count": 11
        }
      ]
    },
    {
      "cell_type": "code",
      "source": [
        "#CRUD\n",
        "#C - CREATE\n",
        "#R - RECOVERY\n",
        "#U - UPDATE\n",
        "#D - DELETE"
      ],
      "metadata": {
        "id": "9rlOVyr_GR7A"
      },
      "execution_count": null,
      "outputs": []
    },
    {
      "cell_type": "code",
      "source": [
        "#Criar\n",
        "lutas = {}\n",
        "lutas"
      ],
      "metadata": {
        "id": "Hx-ZN0bmGeEo"
      },
      "execution_count": null,
      "outputs": []
    },
    {
      "cell_type": "code",
      "source": [
        "#Criar\n",
        "luchadores = [\n",
        "    {\n",
        "     \"nome\":\"Israel Adesanya\",\n",
        "     \"categoria\" : \"Meio médio\",\n",
        "     \"envergadura\" : 2\n",
        "    },\n",
        "     {\n",
        "    \"nome\" : \"Luana Pinheiro\",\n",
        "    \"categoria\" : \"Palha\",\n",
        "    \"envergadura\" : 1.6\n",
        "    }\n",
        "]\n"
      ],
      "metadata": {
        "colab": {
          "base_uri": "https://localhost:8080/"
        },
        "id": "irXU9MLYGllA",
        "outputId": "2dae426e-2342-4fe3-bb6b-49db796032f1"
      },
      "execution_count": null,
      "outputs": [
        {
          "output_type": "execute_result",
          "data": {
            "text/plain": [
              "[{'nome': 'Israel Adesanya', 'categoria': 'Meio médio', 'envergadura': 2},\n",
              " {'nome': 'Luana Pinheiro', 'categoria': 'Palha', 'envergadura': 1.6}]"
            ]
          },
          "metadata": {},
          "execution_count": 7
        }
      ]
    }
  ]
}